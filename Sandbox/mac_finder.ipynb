{
 "cells": [
  {
   "cell_type": "code",
   "execution_count": null,
   "metadata": {},
   "outputs": [],
   "source": [
    "import numpy as np "
   ]
  },
  {
   "cell_type": "code",
   "execution_count": null,
   "metadata": {},
   "outputs": [],
   "source": [
    "test = '192.168.178.4'\n",
    "splited = test.split('.')\n",
    "extract = '.'.join(splited[0:3])\n",
    "print(extract)\n",
    "\n",
    "area = '.1/24'\n",
    "\n",
    "full = extract+area\n",
    "print(full)"
   ]
  },
  {
   "cell_type": "code",
   "execution_count": null,
   "metadata": {},
   "outputs": [],
   "source": [
    "import socket\n",
    "from scapy.all import ARP, Ether, srp\n",
    "\n",
    "def get_my_ip(target_ip):\n",
    "    \"\"\"Ermittelt die lokale IP-Adresse, die verwendet wird, um das angegebene Ziel zu erreichen.\"\"\"\n",
    "    s = socket.socket(socket.AF_INET, socket.SOCK_DGRAM)\n",
    "    s.connect((target_ip, 80))\n",
    "    ip = s.getsockname()[0]\n",
    "    s.close()\n",
    "    return ip\n",
    "\n",
    "def scan(ip_range):\n",
    "    \"\"\"Führt einen Netzwerkscan im angegebenen IP-Bereich durch, indem ARP-Requests gesendet werden.\"\"\"\n",
    "    arp_request = ARP(pdst=ip_range)\n",
    "    broadcast = Ether(dst=\"ff:ff:ff:ff:ff:ff\")\n",
    "    arp_request_broadcast = broadcast / arp_request\n",
    "    answered_list = srp(arp_request_broadcast, timeout=1, verbose=False)[0]\n",
    "\n",
    "    clients_list = []\n",
    "    for element in answered_list:\n",
    "        clients_list.append({\n",
    "            \"ip\": element[1].psrc,\n",
    "            \"mac\": element[1].hwsrc\n",
    "        })\n",
    "    return clients_list\n",
    "\n",
    "def find_mac(clients, search_mac):\n",
    "    \"\"\"Durchsucht die Liste der gefundenen Clients nach einer spezifischen MAC-Adresse.\"\"\"\n",
    "    for client in clients:\n",
    "        if client['mac'].lower() == search_mac.lower():\n",
    "            return client['ip']\n",
    "    return \"MAC-Adresse nicht gefunden.\"\n",
    "\n",
    "if __name__ == \"__main__\":\n",
    "    my_ip = get_my_ip(\"8.8.8.8\")  # Google's DNS server as target\n",
    "    ip_ranges = ['.'.join(my_ip.split('.')[:3]) + '.1/24', '192.168.35.1/24', '192.168.33.1/24']  # IP-Bereiche für den Scan\n",
    "\n",
    "    all_clients = []  # Gesamtliste aller gefundenen Clients\n",
    "    for ip_range in ip_ranges:\n",
    "        print(f\"Scanning {ip_range}...\")\n",
    "        clients = scan(ip_range)\n",
    "        all_clients.extend(clients)  # Füge gefundene Clients zur Gesamtliste hinzu\n",
    "        for client in clients:\n",
    "            print(f\"IP: {client['ip']} - MAC: {client['mac']}\")\n",
    "\n",
    "    search_mac = \"7c:d9:5c:b1:91:31\"\n",
    "    found_ip = find_mac(all_clients, search_mac)  # Suche in der Gesamtliste aller Clients\n",
    "\n",
    "    if found_ip != \"MAC-Adresse nicht gefunden.\":\n",
    "        print(f\"Die IP-Adresse der MAC {search_mac} ist {found_ip}.\")\n",
    "    else:\n",
    "        print(\"MAC-Adresse nicht gefunden.\")\n",
    "\n",
    "    # Verbindungsnachricht hinzufügen\n",
    "    if found_ip and found_ip != \"MAC-Adresse nicht gefunden.\":\n",
    "        print(f'Connecting to Mendel at: {found_ip} ...')\n",
    "    else:\n",
    "        print('Connection to Mendel not possible, IP not found.')\n"
   ]
  }
 ],
 "metadata": {
  "kernelspec": {
   "display_name": "Python 3",
   "language": "python",
   "name": "python3"
  },
  "language_info": {
   "codemirror_mode": {
    "name": "ipython",
    "version": 3
   },
   "file_extension": ".py",
   "mimetype": "text/x-python",
   "name": "python",
   "nbconvert_exporter": "python",
   "pygments_lexer": "ipython3",
   "version": "3.11.2"
  }
 },
 "nbformat": 4,
 "nbformat_minor": 2
}
